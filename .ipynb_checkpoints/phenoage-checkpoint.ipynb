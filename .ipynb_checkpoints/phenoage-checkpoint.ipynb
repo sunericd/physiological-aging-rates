{
 "cells": [
  {
   "cell_type": "markdown",
   "metadata": {},
   "source": [
    "# PhenoAge Analysis\n",
    "\n",
    "This is a mirrored notebook of dna_methylation_age.ipynb where we use PhenoAge instead of the DNA methylation age"
   ]
  },
  {
   "cell_type": "code",
   "execution_count": 1,
   "metadata": {
    "collapsed": true
   },
   "outputs": [],
   "source": [
    "import numpy as np\n",
    "import matplotlib.pyplot as pl\n",
    "from scipy.stats import pearsonr\n",
    "import pandas as pd\n",
    "import csv\n",
    "import math"
   ]
  },
  {
   "cell_type": "markdown",
   "metadata": {},
   "source": [
    "### Compute PhenoAge\n",
    "\n",
    "Not doing W3 since they don't have all the needed variables/traits"
   ]
  },
  {
   "cell_type": "code",
   "execution_count": 50,
   "metadata": {
    "collapsed": false
   },
   "outputs": [
    {
     "name": "stdout",
     "output_type": "stream",
     "text": [
      "[['ID' 'YEAR' 'PHENOAGE']\n",
      " ['1.0' '1998.0' '93.79215129044204']\n",
      " ['3.0' '1998.0' '92.56073218879183']\n",
      " ...\n",
      " ['1558.0' '1998.0' '91.96217410199478']\n",
      " ['1711.0' '1998.0' '93.90766155738262']\n",
      " ['1712.0' '1998.0' '90.64477332330566']]\n"
     ]
    }
   ],
   "source": [
    "def calc_phenoage (alb, crea, glu, crp, lymph, mcv, rbcw, ap, wbc, age):\n",
    "    xb = -19.907-0.0336*alb+0.0095*crea+0.0195*glu+0.0954*np.log(crp)-0.012*lymph+0.0268*mcv+0.3356*rbcw+0.00188*ap+0.0554*wbc+0.0804*age\n",
    "    phenoage = 141.5+np.log(0.00553*np.log(1-xb))/0.09165\n",
    "    return (phenoage)\n",
    "\n",
    "# read inCHIANTI data\n",
    "w0_inCH = pd.read_csv('./RawData/inChiantiAll-w0.tsv', sep='\\t')\n",
    "w3_inCH = pd.read_csv('./RawData/inChiantiAll-w3.tsv', sep='\\t')\n",
    "w0_inCH.head(10)\n",
    "\n",
    "# retrieve variables\n",
    "id_arr = []\n",
    "year_arr = [] # 1998 for w0, 2007 for w3\n",
    "phenoage_arr = []\n",
    "\n",
    "# compute phenoage\n",
    "for i in range(np.shape(w0_inCH)[0]):\n",
    "    iid = w0_inCH['id_individual'][i]\n",
    "    year = 1998\n",
    "    phenoage = calc_phenoage(float(w0_inCH['ALB'][i]), float(w0_inCH['CREA'][i]), float(w0_inCH['GLU'][i]),\n",
    "                             float(w0_inCH['CRP_HS'][i]),float(w0_inCH['P_LIN'][i]),float(w0_inCH['VGM'][i]),\n",
    "                             float(w0_inCH['IDE'][i]), float(w0_inCH['PALK'][i]),float(w0_inCH['GB'][i]),\n",
    "                             float(w0_inCH['Age'][i]))\n",
    "    if math.isnan(phenoage):\n",
    "        continue\n",
    "    else:\n",
    "        id_arr.append(iid)\n",
    "        year_arr.append(year)\n",
    "        phenoage_arr.append(phenoage)\n",
    "\n",
    "# save results\n",
    "res = np.vstack([['ID','YEAR','PHENOAGE'],np.vstack([id_arr,year_arr,phenoage_arr]).T])\n",
    "print (res)"
   ]
  },
  {
   "cell_type": "markdown",
   "metadata": {},
   "source": [
    "### Comparison and analysis"
   ]
  },
  {
   "cell_type": "code",
   "execution_count": null,
   "metadata": {
    "collapsed": true
   },
   "outputs": [],
   "source": [
    "# Read in all data and pre-calculated eRA and PAA\n",
    "w0_data = np.genfromtxt('./Results/inCHIANTI/normal_rf/wave0_inchianti_rf.tsv',delimiter='\\t')\n",
    "w0_id = w0_data[:,0]\n",
    "w0_rate = w0_data[:,3]\n",
    "w0_paa = w0_data[:,2]-w0_data[:,1]\n",
    "w3_data = np.genfromtxt('./Results/inCHIANTI/normal_rf/wave3_inchianti_rf.tsv',delimiter='\\t')\n",
    "w3_id = w3_data[:,0]\n",
    "w3_rate = w3_data[:,3]\n",
    "w3_paa = w3_data[:,2]-w3_data[:,1]\n",
    "\n",
    "# PhenoAge data\n",
    "PhenoAge_data = np.genfromtxt('InCHIANTI_PhenoAge.csv',delimiter=',')\n",
    "m_id = PhenoAge_data[1:,0]\n",
    "m_age = PhenoAge_data[1:,2]\n",
    "m_year = PhenoAge_data[1:,1]\n",
    "m_chrons = []\n",
    "\n",
    "inCH_w0_data = np.genfromtxt('./RawData/inchianti/inChiantiAll-w0.tsv',delimiter='\\t')\n",
    "inCH_w0_ids = inCH_w0_data[1:,0]\n",
    "inCH_w0_chrons = inCH_w0_data[1:,1]\n",
    "inCH_w3_data = np.genfromtxt('./RawData/inchianti/inChiantiAll-w3.tsv',delimiter='\\t')\n",
    "inCH_w3_ids = inCH_w3_data[1:,0]\n",
    "inCH_w3_chrons = inCH_w3_data[1:,1]\n",
    "for i, mid in enumerate(m_id):\n",
    "    if m_year[i] == 1998 or m_year[i]==98:\n",
    "        idx = np.where(inCH_w0_ids==mid)\n",
    "        m_chrons.append(inCH_w0_chrons[idx])\n",
    "    elif m_year[i] == 2007:\n",
    "        idx = np.where(inCH_w3_ids==mid)\n",
    "        m_chrons.append(inCH_w3_chrons[idx])\n",
    "    else:\n",
    "        print (m_year[i])\n",
    "m_chrons = np.array(m_chrons)\n",
    "\n",
    "# Save w0 data in [id] [Age] [Pred] [Rate] format\n",
    "save_id = []\n",
    "save_chrons = []\n",
    "save_age = []\n",
    "save_rate = []\n",
    "for i, mid in enumerate(m_id):\n",
    "    if m_year[i] == 1998 or m_year[i]==98:\n",
    "        idx = np.where(inCH_w0_ids==mid)\n",
    "        save_id.append(mid)\n",
    "        save_chrons.append(inCH_w0_chrons[idx][0])\n",
    "        save_age.append(m_age[i])\n",
    "        save_rate.append(m_age[i]/inCH_w0_chrons[idx][0])\n",
    "save_list = [save_id, save_chrons, save_age, save_rate]\n",
    "save_arr = np.vstack(save_list).T\n",
    "np.savetxt('./Results/inCHIANTI/wave0_inchianti_epigenetic.tsv',save_arr,delimiter='\\t')"
   ]
  },
  {
   "cell_type": "code",
   "execution_count": null,
   "metadata": {
    "collapsed": true
   },
   "outputs": [],
   "source": []
  }
 ],
 "metadata": {
  "anaconda-cloud": {},
  "kernelspec": {
   "display_name": "Python [default]",
   "language": "python",
   "name": "python3"
  },
  "language_info": {
   "codemirror_mode": {
    "name": "ipython",
    "version": 3
   },
   "file_extension": ".py",
   "mimetype": "text/x-python",
   "name": "python",
   "nbconvert_exporter": "python",
   "pygments_lexer": "ipython3",
   "version": "3.5.6"
  }
 },
 "nbformat": 4,
 "nbformat_minor": 1
}
